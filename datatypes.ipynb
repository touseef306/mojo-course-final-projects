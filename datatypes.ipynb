{
 "cells": [
  {
   "cell_type": "code",
   "execution_count": null,
   "metadata": {},
   "outputs": [],
   "source": []
  },
  {
   "cell_type": "markdown",
   "metadata": {},
   "source": [
    "### PythonObject"
   ]
  },
  {
   "cell_type": "code",
   "execution_count": 2,
   "metadata": {},
   "outputs": [
    {
     "name": "stdout",
     "output_type": "stream",
     "text": [
      "15\n"
     ]
    }
   ],
   "source": [
    "from python import Python\n",
    "x = Python.evaluate('5+10')\n",
    "print(x)"
   ]
  },
  {
   "cell_type": "code",
   "execution_count": 3,
   "metadata": {},
   "outputs": [
    {
     "name": "stdout",
     "output_type": "stream",
     "text": [
      "15\n"
     ]
    }
   ],
   "source": [
    "%%python\n",
    "x =5+10\n",
    "print(x)"
   ]
  },
  {
   "cell_type": "code",
   "execution_count": 4,
   "metadata": {},
   "outputs": [
    {
     "name": "stdout",
     "output_type": "stream",
     "text": [
      "this uses python print\n"
     ]
    }
   ],
   "source": [
    "let py = Python.import_module(\"builtins\")\n",
    "py.print(\"this uses python print\")"
   ]
  },
  {
   "cell_type": "code",
   "execution_count": 5,
   "metadata": {},
   "outputs": [
    {
     "name": "stdout",
     "output_type": "stream",
     "text": [
      "<class 'int'>\n",
      "140676628234928\n"
     ]
    }
   ],
   "source": [
    "py.print(py.type(x))\n",
    "py.print(py.id(x))"
   ]
  },
  {
   "cell_type": "code",
   "execution_count": 7,
   "metadata": {},
   "outputs": [
    {
     "name": "stdout",
     "output_type": "stream",
     "text": [
      "hello from python\n",
      "<class 'str'>\n"
     ]
    }
   ],
   "source": [
    "x= \"hello from python\"\n",
    "py.print(x)\n",
    "py.print(py.type(x))"
   ]
  },
  {
   "cell_type": "code",
   "execution_count": 8,
   "metadata": {},
   "outputs": [
    {
     "name": "stdout",
     "output_type": "stream",
     "text": [
      "15\n"
     ]
    }
   ],
   "source": [
    "x = 5+10\n",
    "print(x)"
   ]
  },
  {
   "cell_type": "markdown",
   "metadata": {},
   "source": [
    "### SIMD"
   ]
  },
  {
   "cell_type": "code",
   "execution_count": 7,
   "metadata": {},
   "outputs": [
    {
     "name": "stdout",
     "output_type": "stream",
     "text": [
      "[1, 2, 3, 4]\n"
     ]
    }
   ],
   "source": [
    "y = SIMD[DType.uint8,4](1,2,3,4)\n",
    "print(y)"
   ]
  },
  {
   "cell_type": "code",
   "execution_count": 8,
   "metadata": {},
   "outputs": [
    {
     "name": "stdout",
     "output_type": "stream",
     "text": [
      "[10, 20, 30, 40]\n"
     ]
    }
   ],
   "source": [
    "y *= 10\n",
    "print(y)"
   ]
  },
  {
   "cell_type": "code",
   "execution_count": 9,
   "metadata": {},
   "outputs": [
    {
     "name": "stdout",
     "output_type": "stream",
     "text": [
      "256\n"
     ]
    }
   ],
   "source": [
    "from sys import info\n",
    "print(info.simdbitwidth())"
   ]
  },
  {
   "cell_type": "code",
   "execution_count": 11,
   "metadata": {},
   "outputs": [
    {
     "name": "stdout",
     "output_type": "stream",
     "text": [
      "[1, 1, 1, 1, 1, 1, 1, 1, 1, 1, 1, 1, 1, 1, 1, 1, 1, 1, 1, 1, 1, 1, 1, 1, 1, 1, 1, 1, 1, 1, 1, 1]\n",
      "[10, 10, 10, 10, 10, 10, 10, 10, 10, 10, 10, 10, 10, 10, 10, 10, 10, 10, 10, 10, 10, 10, 10, 10, 10, 10, 10, 10, 10, 10, 10, 10]\n"
     ]
    }
   ],
   "source": [
    "t = SIMD[DType.uint8,32](1)\n",
    "print(t)\n",
    "t *=10\n",
    "print(t)"
   ]
  },
  {
   "cell_type": "code",
   "execution_count": 12,
   "metadata": {},
   "outputs": [
    {
     "name": "stdout",
     "output_type": "stream",
     "text": [
      "[1, 2, 3, 4, 5, 6, 7, 8, 9, 10, 11, 12, 13, 14, 15, 16, 17, 18, 19, 20, 21, 22, 23, 24, 25, 26, 27, 28, 29, 30, 31, 32]\n",
      "[10, 20, 30, 40, 50, 60, 70, 80, 90, 100, 110, 120, 130, 140, 150, 160, 170, 180, 190, 200, 210, 220, 230, 240, 250, 4, 14, 24, 34, 44, 54, 64]\n"
     ]
    }
   ],
   "source": [
    "b = SIMD[DType.uint8,32](1,2,3,4,5,6,7,8,9,10,11,12,13,14,15,16,17,18,19,20,21,22,23,24,25,26,27,28,29,30,31,32)\n",
    "print(b)\n",
    "b *=10\n",
    "print(b)"
   ]
  },
  {
   "cell_type": "markdown",
   "metadata": {},
   "source": [
    "### Scalar"
   ]
  },
  {
   "cell_type": "code",
   "execution_count": 19,
   "metadata": {},
   "outputs": [
    {
     "name": "stderr",
     "output_type": "stream",
     "text": [
      "error: \u001b[0;1;31m\u001b[1mExpression [19]:2:4: \u001b[0m\u001b[1mcannot implicitly convert 'StringLiteral' value to 'SIMD[ui8, 1]' in assignment\n",
      "\u001b[0mx =\"cause an error\"\n",
      "\u001b[0;1;32m   ^~~~~~~~~~~~~~~~\n",
      "\u001b[0m\u001b[0m\n",
      "error: \u001b[0;1;31m\u001b[1mExpression [19]:3:12: \u001b[0m\u001b[1mcannot implicitly convert 'SIMD[f32, 1]' value to 'SIMD[ui8, 1]' in assignment\n",
      "\u001b[0mx = Float32(3.14)\n",
      "\u001b[0;1;32m    ~~~~~~~^~~~~~\n",
      "\u001b[0m\u001b[0m\n",
      "expression failed to parse (no further compiler diagnostics)"
     ]
    }
   ],
   "source": [
    "var x = UInt8(1)\n",
    "x =\"cause an error\"\n",
    "x = Float32(3.14)\n",
    "\n"
   ]
  },
  {
   "cell_type": "code",
   "execution_count": 23,
   "metadata": {},
   "outputs": [
    {
     "name": "stdout",
     "output_type": "stream",
     "text": [
      "<class 'int'>\n",
      "different value\n"
     ]
    }
   ],
   "source": [
    "%%python\n",
    "dynamic = 10\n",
    "print(type(dynamic))\n",
    "dynamic =\"different value\"\n",
    "print(dynamic)"
   ]
  },
  {
   "cell_type": "markdown",
   "metadata": {},
   "source": [
    "### String, StringLiteral, StringRef"
   ]
  },
  {
   "cell_type": "markdown",
   "metadata": {},
   "source": [
    "1. String"
   ]
  },
  {
   "cell_type": "code",
   "execution_count": 6,
   "metadata": {},
   "outputs": [
    {
     "name": "stdout",
     "output_type": "stream",
     "text": [
      "(null)\n",
      "Hello\n",
      "Hello\n",
      "42\n",
      "15.500000\n",
      "False\n"
     ]
    }
   ],
   "source": [
    "let s1 = String()\n",
    "let s2 = String(\"Hello\")\n",
    "let s3 =s2\n",
    "let s4 = String(42)\n",
    "let s5 = String(15.5)\n",
    "let s6 = String(False)\n",
    "\n",
    "print(s1)\n",
    "print(s2)\n",
    "print(s3)\n",
    "print(s4)\n",
    "print(s5)\n",
    "print(s6)"
   ]
  },
  {
   "cell_type": "code",
   "execution_count": 8,
   "metadata": {},
   "outputs": [
    {
     "name": "stdout",
     "output_type": "stream",
     "text": [
      "10\n",
      "Hello Mojo Welcome\n"
     ]
    }
   ],
   "source": [
    "let greeting = String(\"Hello Mojo\")\n",
    "print(greeting.__len__())\n",
    "let newGreeting = greeting + \" Welcome\"\n",
    "print(newGreeting)"
   ]
  },
  {
   "cell_type": "markdown",
   "metadata": {},
   "source": [
    "2. StringLiteral"
   ]
  },
  {
   "cell_type": "code",
   "execution_count": 9,
   "metadata": {},
   "outputs": [
    {
     "name": "stdout",
     "output_type": "stream",
     "text": [
      "this is a string literal this is the second string\n"
     ]
    }
   ],
   "source": [
    "let s9 = \"this is a string literal\"\n",
    "let s10 = s9 + \" this is the second string\"\n",
    "print(s10)"
   ]
  },
  {
   "cell_type": "markdown",
   "metadata": {},
   "source": [
    "3. StringRef"
   ]
  },
  {
   "cell_type": "code",
   "execution_count": 10,
   "metadata": {},
   "outputs": [
    {
     "name": "stdout",
     "output_type": "stream",
     "text": [
      "True\n",
      "False\n"
     ]
    }
   ],
   "source": [
    "let str1= \"this is a string literal\"\n",
    "let str2 = str1\n",
    "let str3 = \"this is another string\"\n",
    "\n",
    "print(str1 == str2)\n",
    "print(str1 == str3)"
   ]
  },
  {
   "cell_type": "markdown",
   "metadata": {},
   "source": [
    "### Int DataType"
   ]
  },
  {
   "cell_type": "code",
   "execution_count": 13,
   "metadata": {},
   "outputs": [
    {
     "name": "stdout",
     "output_type": "stream",
     "text": [
      "15\n",
      "8\n",
      "30\n",
      "you are an adult\n"
     ]
    }
   ],
   "source": [
    "var age: Int = 25\n",
    "let score = 100\n",
    "\n",
    "let sum = 10+5\n",
    "let diff = 20 - 12\n",
    "let product = 10*3\n",
    "\n",
    "print(sum)\n",
    "print(diff)\n",
    "print(product)\n",
    "\n",
    "if age > 18:\n",
    "    print(\"you are an adult\")\n",
    "else:\n",
    "    print(\"you are a minor\")\n",
    "\n",
    "\n",
    "\n"
   ]
  },
  {
   "cell_type": "markdown",
   "metadata": {},
   "source": [
    "### Float Datatype"
   ]
  },
  {
   "cell_type": "code",
   "execution_count": 23,
   "metadata": {},
   "outputs": [
    {
     "name": "stdout",
     "output_type": "stream",
     "text": [
      "its a pleasant day\n"
     ]
    }
   ],
   "source": [
    "var temprature: Float16 = 25.5\n",
    "let average = (10.0+5.0)/2.0\n",
    "\n",
    "if temprature > 30.0:\n",
    "    print(\"its hot outside\")\n",
    "else:\n",
    "    print(\"its a pleasant day\")"
   ]
  },
  {
   "cell_type": "markdown",
   "metadata": {},
   "source": [
    "### Bool datatype"
   ]
  },
  {
   "cell_type": "code",
   "execution_count": 26,
   "metadata": {},
   "outputs": [
    {
     "name": "stdout",
     "output_type": "stream",
     "text": [
      "Please log in again\n"
     ]
    }
   ],
   "source": [
    "var isLoggedIn: Bool = False\n",
    "let isAdmin: Bool = True\n",
    "\n",
    "if isLoggedIn:\n",
    "    print(\"Welcome back\")\n",
    "else:\n",
    "    print(\"Please log in again\")"
   ]
  },
  {
   "cell_type": "markdown",
   "metadata": {},
   "source": [
    "### ListLiteral in mojo"
   ]
  },
  {
   "cell_type": "code",
   "execution_count": 49,
   "metadata": {},
   "outputs": [
    {
     "name": "stdout",
     "output_type": "stream",
     "text": [
      "['apple', 'banana', 'orange']\n",
      "[1, 2, 3]\n",
      "[1, 5.0, 'Mojo🔥']\n",
      "5.0\n"
     ]
    }
   ],
   "source": [
    "let fruits: ListLiteral[StringLiteral,StringLiteral,StringLiteral]=[\"apple\",\"banana\",\"orange\"]\n",
    "print(fruits)\n",
    "\n",
    "let numbers: ListLiteral[Int, Int, Int] = [1,2,3]\n",
    "print(numbers)\n",
    "\n",
    "let list: ListLiteral[Int, FloatLiteral,StringLiteral] = [1,5.0,\"Mojo🔥\"]\n",
    "print(list)\n",
    "\n",
    "print(list.get[1,FloatLiteral]())"
   ]
  },
  {
   "cell_type": "markdown",
   "metadata": {},
   "source": [
    "### Tuple in Mojo"
   ]
  },
  {
   "cell_type": "code",
   "execution_count": 58,
   "metadata": {},
   "outputs": [
    {
     "name": "stdout",
     "output_type": "stream",
     "text": [
      "3.5\n",
      "one\n"
     ]
    }
   ],
   "source": [
    "let tup1 =(\"one\",\"two\",\"three\")\n",
    "\n",
    "let tup2 =(1,2,3)\n",
    "\n",
    "let tup3 =(1,\"Mojo\",3.5)\n",
    "print(tup3.get[2,FloatLiteral]())\n"
   ]
  },
  {
   "cell_type": "markdown",
   "metadata": {},
   "source": [
    "### Slice in Strings"
   ]
  },
  {
   "cell_type": "code",
   "execution_count": 63,
   "metadata": {},
   "outputs": [
    {
     "name": "stdout",
     "output_type": "stream",
     "text": [
      "Mojo\n",
      "Mojo\n",
      "MjWr\n",
      "Mj\n"
     ]
    }
   ],
   "source": [
    "# start:end:step\n",
    "let str = String(\"MojoWorld\")\n",
    "print(str[0:4])\n",
    "let strTuple = slice(0,4)\n",
    "print(str[strTuple])\n",
    "\n",
    "print(str[0:8:2])\n",
    "let str2Tuple = slice(0,4,2)\n",
    "print(str[str2Tuple])"
   ]
  },
  {
   "cell_type": "markdown",
   "metadata": {},
   "source": [
    "### var, let, alias"
   ]
  },
  {
   "cell_type": "markdown",
   "metadata": {},
   "source": [
    "1.var"
   ]
  },
  {
   "cell_type": "code",
   "execution_count": null,
   "metadata": {},
   "outputs": [],
   "source": [
    "var x = 1\n",
    "x = 2 # this is allowed"
   ]
  },
  {
   "cell_type": "markdown",
   "metadata": {},
   "source": [
    "2.let"
   ]
  },
  {
   "cell_type": "code",
   "execution_count": null,
   "metadata": {},
   "outputs": [],
   "source": [
    "let x = 1\n",
    "x = 2 #this is not allowed"
   ]
  },
  {
   "cell_type": "markdown",
   "metadata": {},
   "source": [
    "3.alias"
   ]
  },
  {
   "cell_type": "code",
   "execution_count": null,
   "metadata": {},
   "outputs": [],
   "source": [
    "alias x =1+2 #x is now a compile time value equal to 3"
   ]
  },
  {
   "cell_type": "markdown",
   "metadata": {},
   "source": [
    "### def and fn"
   ]
  },
  {
   "cell_type": "code",
   "execution_count": 1,
   "metadata": {},
   "outputs": [
    {
     "name": "stdout",
     "output_type": "stream",
     "text": [
      "5\n"
     ]
    }
   ],
   "source": [
    "def addnumbers(a,b):\n",
    "    c = a + b\n",
    "    return c\n",
    "\n",
    "print(addnumbers(2,3))"
   ]
  },
  {
   "cell_type": "code",
   "execution_count": 2,
   "metadata": {},
   "outputs": [
    {
     "name": "stdout",
     "output_type": "stream",
     "text": [
      "Hello, John!\n"
     ]
    }
   ],
   "source": [
    "def greet(name: String) -> String:\n",
    "    let greeting = \"Hello, \" + name + \"!\"\n",
    "    return greeting\n",
    "\n",
    "print(greet(\"John\"))"
   ]
  },
  {
   "cell_type": "code",
   "execution_count": 3,
   "metadata": {},
   "outputs": [
    {
     "name": "stdout",
     "output_type": "stream",
     "text": [
      "8\n"
     ]
    }
   ],
   "source": [
    "fn addnumbersfn(a:Int8,b:Int8) -> Int8:\n",
    "    let c: Int8 = a + b\n",
    "    return c\n",
    "\n",
    "print(addnumbersfn(5,3))"
   ]
  },
  {
   "cell_type": "markdown",
   "metadata": {},
   "source": [
    "### Conditional Statements"
   ]
  },
  {
   "cell_type": "code",
   "execution_count": 4,
   "metadata": {},
   "outputs": [
    {
     "name": "stdout",
     "output_type": "stream",
     "text": [
      "You are old enough to enter\n"
     ]
    }
   ],
   "source": [
    "let age = 18\n",
    "\n",
    "if age >= 18:\n",
    "    print(\"You are old enough to enter\")\n",
    "else:\n",
    "    print(\"Sorry, you are not old enough\")\n",
    "\n",
    "\n"
   ]
  },
  {
   "cell_type": "code",
   "execution_count": null,
   "metadata": {},
   "outputs": [],
   "source": [
    "let score = 80\n",
    "\n",
    "if score >= 90:\n",
    "    print(\"You got an A\")\n",
    "elif score>= 80:\n",
    "    print(\"You got an B\")\n",
    "else:\n",
    "    print(\"You need to study harder\")"
   ]
  },
  {
   "cell_type": "markdown",
   "metadata": {},
   "source": [
    "### for and while loop"
   ]
  },
  {
   "cell_type": "markdown",
   "metadata": {},
   "source": [
    "1.for loop"
   ]
  },
  {
   "cell_type": "code",
   "execution_count": 7,
   "metadata": {},
   "outputs": [
    {
     "name": "stdout",
     "output_type": "stream",
     "text": [
      "1\n",
      "3\n",
      "5\n",
      "7\n",
      "9\n"
     ]
    }
   ],
   "source": [
    "for i in range(5):pass\n",
    "    # print(i)\n",
    "\n",
    "for i in range(1,10,2):\n",
    "    print(i)"
   ]
  },
  {
   "cell_type": "markdown",
   "metadata": {},
   "source": [
    "2.while loop"
   ]
  },
  {
   "cell_type": "code",
   "execution_count": 8,
   "metadata": {},
   "outputs": [
    {
     "name": "stdout",
     "output_type": "stream",
     "text": [
      "0\n",
      "1\n",
      "2\n",
      "3\n",
      "4\n"
     ]
    }
   ],
   "source": [
    "count = 0\n",
    "while count < 5:\n",
    "    print(count)\n",
    "    count +=1"
   ]
  },
  {
   "cell_type": "code",
   "execution_count": 9,
   "metadata": {},
   "outputs": [
    {
     "name": "stdout",
     "output_type": "stream",
     "text": [
      "1\n",
      "3\n",
      "5\n",
      "7\n",
      "9\n"
     ]
    }
   ],
   "source": [
    "num =1\n",
    "while num <= 10:\n",
    "    print(num)\n",
    "    num +=2"
   ]
  },
  {
   "cell_type": "code",
   "execution_count": 10,
   "metadata": {},
   "outputs": [
    {
     "name": "stdout",
     "output_type": "stream",
     "text": [
      "1\n",
      "2\n",
      "4\n",
      "5\n"
     ]
    }
   ],
   "source": [
    "x = 0\n",
    "while x< 5:\n",
    "    x +=1\n",
    "    if x == 3:\n",
    "        continue\n",
    "    print(x)"
   ]
  },
  {
   "cell_type": "code",
   "execution_count": 11,
   "metadata": {},
   "outputs": [
    {
     "name": "stdout",
     "output_type": "stream",
     "text": [
      "1\n",
      "2\n",
      "3\n"
     ]
    }
   ],
   "source": [
    "x = 0\n",
    "while x < 5:\n",
    "    x+=1\n",
    "    if x == 4:\n",
    "        break\n",
    "    print(x)"
   ]
  },
  {
   "cell_type": "markdown",
   "metadata": {},
   "source": [
    "### struct example in mojo"
   ]
  },
  {
   "cell_type": "code",
   "execution_count": 20,
   "metadata": {},
   "outputs": [
    {
     "name": "stdout",
     "output_type": "stream",
     "text": [
      "2\n",
      "Dog\n",
      "woof\n",
      "3\n",
      "Dog\n",
      "woof\n"
     ]
    }
   ],
   "source": [
    "struct Animal:\n",
    "    var age: Int\n",
    "    var species: StringLiteral\n",
    "    var sound: StringLiteral\n",
    "\n",
    "    fn __init__(inout self , age: Int, species: StringLiteral, sound: StringLiteral):\n",
    "        self.age = age\n",
    "        self.species = species\n",
    "        self.sound = sound\n",
    "\n",
    "    fn printProps(self):\n",
    "        print(self.age)\n",
    "        print(self.species)\n",
    "        print(self.sound)\n",
    "\n",
    "\n",
    "var dog = Animal(2,\"Dog\",\"woof\")\n",
    "let cat = Animal(1,\"Cat\", \"meon\")\n",
    "\n",
    "dog.printProps()\n",
    "\n",
    "dog.age =3\n",
    "dog.printProps()\n",
    "\n",
    "   "
   ]
  },
  {
   "cell_type": "markdown",
   "metadata": {},
   "source": [
    "### inout, borrowed, owned"
   ]
  },
  {
   "cell_type": "code",
   "execution_count": 5,
   "metadata": {},
   "outputs": [
    {
     "name": "stdout",
     "output_type": "stream",
     "text": [
      "13\n"
     ]
    }
   ],
   "source": [
    "\n",
    "fn add(owned a:Int,owned b:Int) -> Int:\n",
    "    a = 6\n",
    "    b =7\n",
    "    return a + b\n",
    "\n",
    "fn main():\n",
    "    let a: Int = 4\n",
    "    let b: Int = 5\n",
    "    print(add(a,b))\n",
    "\n",
    "\n",
    "main()"
   ]
  },
  {
   "cell_type": "markdown",
   "metadata": {},
   "source": [
    "### Decorators"
   ]
  },
  {
   "cell_type": "markdown",
   "metadata": {},
   "source": [
    "1. @value"
   ]
  },
  {
   "cell_type": "code",
   "execution_count": 8,
   "metadata": {},
   "outputs": [
    {
     "name": "stdout",
     "output_type": "stream",
     "text": [
      "Running init\n",
      "5\n",
      "10\n",
      "Running move init\n",
      "Running copy init\n"
     ]
    }
   ],
   "source": [
    "struct Pair:\n",
    "    var x: Int\n",
    "    var y: Int\n",
    "\n",
    "    fn __init__(inout self:Pair, x:Int,y:Int):\n",
    "        print(\"Running init\")\n",
    "        self.x = x\n",
    "        self.y = y\n",
    "    \n",
    "    fn __moveinit__(inout self, owned existing:Self):\n",
    "        print(\"Running move init\")\n",
    "        self.x = existing.x\n",
    "        self.y = existing.y\n",
    "\n",
    "    fn __copyinit__(inout self, existing:Self):\n",
    "        print(\"Running copy init\")\n",
    "        self.x = existing.x\n",
    "        self.y = existing.y\n",
    "\n",
    "let pair = Pair(5,10)\n",
    "print(pair.x)\n",
    "print(pair.y)\n",
    "\n",
    "var pair2 = pair^\n",
    "var pair3 = pair2\n",
    "\n"
   ]
  },
  {
   "cell_type": "code",
   "execution_count": 14,
   "metadata": {},
   "outputs": [
    {
     "name": "stdout",
     "output_type": "stream",
     "text": [
      "30\n",
      "5\n"
     ]
    }
   ],
   "source": [
    "@value\n",
    "struct Pair4:\n",
    "    var x:Int\n",
    "    var y:Int\n",
    "\n",
    "\n",
    "var pair5 = Pair4(5,10)\n",
    "\n",
    "var pair6 = pair5^\n",
    "\n",
    "let pair7 = pair6\n",
    "\n",
    "pair6.x = 30\n",
    "\n",
    "print(pair6.x)\n",
    "print(pair7.x)"
   ]
  },
  {
   "cell_type": "markdown",
   "metadata": {},
   "source": [
    "2. @register_passable"
   ]
  },
  {
   "cell_type": "code",
   "execution_count": 16,
   "metadata": {},
   "outputs": [
    {
     "name": "stdout",
     "output_type": "stream",
     "text": [
      "5 10\n",
      "10 20\n"
     ]
    }
   ],
   "source": [
    "@register_passable\n",
    "struct Pair:\n",
    "    var a: Int\n",
    "    var b: Int\n",
    "\n",
    "    fn __init__(one:Int, two:Int) -> Self:\n",
    "        return Self{a:one, b:two}\n",
    "\n",
    "    fn __copyinit__(existing) -> Self:\n",
    "        return Self{a:existing.a, b:existing.b}\n",
    "\n",
    "\n",
    "fn test_pair():\n",
    "    let x = Pair(5, 10)\n",
    "    var y = x\n",
    "\n",
    "    print(y.a, y.b)\n",
    "\n",
    "    y.a = 10\n",
    "    y.b = 20\n",
    "\n",
    "    print(y.a, y.b)\n",
    "\n",
    "test_pair()"
   ]
  },
  {
   "cell_type": "code",
   "execution_count": null,
   "metadata": {},
   "outputs": [],
   "source": [
    "@register_passable(\"trivial\")\n",
    "struct Pair:\n",
    "    var a: Int\n",
    "    var b: Int"
   ]
  },
  {
   "cell_type": "markdown",
   "metadata": {},
   "source": [
    "3. @unroll"
   ]
  },
  {
   "cell_type": "code",
   "execution_count": 18,
   "metadata": {},
   "outputs": [
    {
     "name": "stdout",
     "output_type": "stream",
     "text": [
      "0\n",
      "1\n",
      "2\n",
      "3\n",
      "4\n",
      "5\n",
      "6\n",
      "7\n",
      "8\n",
      "9\n"
     ]
    }
   ],
   "source": [
    "@unroll\n",
    "for i in range(10):\n",
    "    print(i)"
   ]
  },
  {
   "cell_type": "code",
   "execution_count": 19,
   "metadata": {},
   "outputs": [
    {
     "name": "stdout",
     "output_type": "stream",
     "text": [
      "0\n",
      "1\n",
      "2\n",
      "3\n",
      "4\n",
      "5\n",
      "6\n",
      "7\n",
      "8\n",
      "9\n"
     ]
    }
   ],
   "source": [
    "@unroll(2)\n",
    "for i in range(10):\n",
    "    print(i)"
   ]
  },
  {
   "cell_type": "code",
   "execution_count": null,
   "metadata": {},
   "outputs": [],
   "source": [
    "for i in range(0,10,2):\n",
    "    print(i)\n",
    "    print(i + 1)"
   ]
  },
  {
   "cell_type": "markdown",
   "metadata": {},
   "source": [
    "4. @always_inline"
   ]
  },
  {
   "cell_type": "code",
   "execution_count": 20,
   "metadata": {},
   "outputs": [
    {
     "name": "stdout",
     "output_type": "stream",
     "text": [
      "3\n"
     ]
    }
   ],
   "source": [
    "@always_inline\n",
    "fn add(a: Int, b: Int) -> Int:\n",
    "    return a + b\n",
    "\n",
    "print(add(1,2))\n",
    "print(1+2)\n",
    "\n",
    "@always_inline(\"nodebug\")"
   ]
  },
  {
   "cell_type": "markdown",
   "metadata": {},
   "source": [
    "5. @parameter"
   ]
  },
  {
   "cell_type": "code",
   "execution_count": 21,
   "metadata": {},
   "outputs": [
    {
     "name": "stdout",
     "output_type": "stream",
     "text": [
      "this will be included with the binary\n"
     ]
    }
   ],
   "source": [
    "@parameter\n",
    "if True:\n",
    "    print(\"this will be included with the binary\")\n",
    "else:\n",
    "    print(\"this will be eliminated at complie time\")"
   ]
  },
  {
   "cell_type": "code",
   "execution_count": 23,
   "metadata": {},
   "outputs": [
    {
     "name": "stdout",
     "output_type": "stream",
     "text": [
      "3\n"
     ]
    }
   ],
   "source": [
    "fn use_closure[func: fn(Int) capturing -> Int](num: Int) ->Int:\n",
    "    return func(num)\n",
    "\n",
    "fn create_closure():\n",
    "    var x = 1\n",
    "\n",
    "    @parameter\n",
    "    fn add(i:Int) -> Int:\n",
    "        return x + i\n",
    "\n",
    "    let y = use_closure[add](2)\n",
    "    print(y)\n",
    "\n",
    "create_closure()"
   ]
  },
  {
   "cell_type": "markdown",
   "metadata": {},
   "source": [
    "6. @capturing"
   ]
  },
  {
   "cell_type": "code",
   "execution_count": 1,
   "metadata": {},
   "outputs": [
    {
     "name": "stdout",
     "output_type": "stream",
     "text": [
      "hello mojo\n"
     ]
    }
   ],
   "source": [
    "fn outer(func: fn() -> None):\n",
    "    func()\n",
    "\n",
    "fn call_it():\n",
    "    @noncapturing\n",
    "    fn inner():\n",
    "        print(\"hello mojo\")\n",
    "\n",
    "    outer(inner)\n",
    "\n",
    "call_it()"
   ]
  },
  {
   "cell_type": "markdown",
   "metadata": {},
   "source": [
    "### Splat and Join,Add,Mul Methods in SIMD"
   ]
  },
  {
   "cell_type": "code",
   "execution_count": 15,
   "metadata": {},
   "outputs": [
    {
     "name": "stdout",
     "output_type": "stream",
     "text": [
      "SIMD a: [0.5, 0.5, 0.5, 0.5, 0.5, 0.5, 0.5, 0.5]\n",
      "SIMD a: [2.5, 2.5, 2.5, 2.5, 2.5, 2.5, 2.5, 2.5]\n",
      "\n",
      "SIMD JOIN:  [0.5, 0.5, 0.5, 0.5, 0.5, 0.5, 0.5, 0.5, 2.5, 2.5, 2.5, 2.5, 2.5, 2.5, 2.5, 2.5]\n",
      "\n",
      "SIMD add [3.0, 3.0, 3.0, 3.0, 3.0, 3.0, 3.0, 3.0]\n",
      "\n",
      "SIMD mul:  [1.25, 1.25, 1.25, 1.25, 1.25, 1.25, 1.25, 1.25]\n"
     ]
    }
   ],
   "source": [
    "alias dtype = DType.float32\n",
    "let a = SIMD[dtype].splat(0.5)\n",
    "let b = SIMD[dtype].splat(2.5)\n",
    "print(\"SIMD a:\",a)\n",
    "print(\"SIMD a:\",b)\n",
    "print()\n",
    "print(\"SIMD JOIN: \",a.join(b))\n",
    "print()\n",
    "print(\"SIMD add\",a.__add__(b))\n",
    "print()\n",
    "print(\"SIMD mul: \",a.__mul__(b))\n"
   ]
  },
  {
   "cell_type": "markdown",
   "metadata": {},
   "source": [
    "### DynamicVector"
   ]
  },
  {
   "cell_type": "code",
   "execution_count": 1,
   "metadata": {},
   "outputs": [
    {
     "name": "stdout",
     "output_type": "stream",
     "text": [
      "2 3 4 "
     ]
    }
   ],
   "source": [
    "from collections.vector import DynamicVector\n",
    "\n",
    "var vector1 = DynamicVector[Int]()\n",
    "\n",
    "vector1.append(2)\n",
    "vector1.append(3)\n",
    "vector1.append(4)\n",
    "\n",
    "for i in range(len(vector1)):\n",
    "    print_no_newline(vector1[i],\"\")"
   ]
  },
  {
   "cell_type": "code",
   "execution_count": 1,
   "metadata": {},
   "outputs": [
    {
     "name": "stdout",
     "output_type": "stream",
     "text": [
      "2.0 3.5 4.6015625 "
     ]
    }
   ],
   "source": [
    "from collections.vector import DynamicVector\n",
    "\n",
    "var vector2 = DynamicVector[Float16]()\n",
    "\n",
    "vector2.append(2.0)\n",
    "vector2.append(3.5)\n",
    "vector2.append(4.6)\n",
    "\n",
    "for i in range(len(vector2)):\n",
    "    print_no_newline(vector2[i],\"\")"
   ]
  },
  {
   "cell_type": "code",
   "execution_count": 1,
   "metadata": {},
   "outputs": [
    {
     "name": "stdout",
     "output_type": "stream",
     "text": [
      "one two three "
     ]
    }
   ],
   "source": [
    "from collections.vector import DynamicVector\n",
    "\n",
    "var vector3 = DynamicVector[String]()\n",
    "\n",
    "vector3.append(\"one\")\n",
    "vector3.append(\"two\")\n",
    "vector3.append(\"three\")\n",
    "\n",
    "for i in range(len(vector3)):\n",
    "    print_no_newline(vector3[i],\"\")"
   ]
  },
  {
   "cell_type": "code",
   "execution_count": 2,
   "metadata": {},
   "outputs": [
    {
     "name": "stdout",
     "output_type": "stream",
     "text": [
      "two four six "
     ]
    }
   ],
   "source": [
    "from collections.vector import DynamicVector\n",
    "\n",
    "var vector4 = DynamicVector[StringLiteral]()\n",
    "\n",
    "vector4.append(\"two\")\n",
    "vector4.append(\"four\")\n",
    "vector4.append(\"six\")\n",
    "\n",
    "for i in range(len(vector4)):\n",
    "    print_no_newline(vector4[i],\"\")"
   ]
  },
  {
   "cell_type": "code",
   "execution_count": 1,
   "metadata": {},
   "outputs": [
    {
     "name": "stdout",
     "output_type": "stream",
     "text": [
      "two four six "
     ]
    }
   ],
   "source": [
    "from collections.vector import InlinedFixedVector\n",
    "\n",
    "var vector5 = InlinedFixedVector[StringLiteral](3)\n",
    "\n",
    "vector5.append(\"two\")\n",
    "vector5.append(\"four\")\n",
    "vector5.append(\"six\")\n",
    "\n",
    "for i in range(len(vector5)):\n",
    "    print_no_newline(vector5[i],\"\")"
   ]
  },
  {
   "cell_type": "code",
   "execution_count": 1,
   "metadata": {},
   "outputs": [
    {
     "name": "stdout",
     "output_type": "stream",
     "text": [
      "True False True "
     ]
    }
   ],
   "source": [
    "from collections.vector import InlinedFixedVector\n",
    "\n",
    "var vector6 = InlinedFixedVector[Bool](3)\n",
    "\n",
    "vector6.append(True)\n",
    "vector6.append(False)\n",
    "vector6.append(True)\n",
    "\n",
    "for i in range(len(vector6)):\n",
    "    print_no_newline(vector6[i],\"\")"
   ]
  },
  {
   "cell_type": "markdown",
   "metadata": {},
   "source": [
    "### Traits in mojo"
   ]
  },
  {
   "cell_type": "code",
   "execution_count": 1,
   "metadata": {},
   "outputs": [
    {
     "name": "stdout",
     "output_type": "stream",
     "text": [
      "Quack\n",
      "Moo!\n"
     ]
    }
   ],
   "source": [
    "@value\n",
    "struct Duck:\n",
    "    fn quack(self):\n",
    "        print(\"Quack\")\n",
    "\n",
    "@value\n",
    "struct StealthCow:\n",
    "    fn quack(self):\n",
    "        print(\"Moo!\")\n",
    "\n",
    "fn make_it_quack(definitely_a_quack: Duck):\n",
    "    definitely_a_quack.quack()\n",
    "\n",
    "fn make_it_quack(not_a_quack:StealthCow):\n",
    "    not_a_quack.quack()\n",
    "\n",
    "make_it_quack(Duck())\n",
    "make_it_quack(StealthCow())"
   ]
  },
  {
   "cell_type": "code",
   "execution_count": 3,
   "metadata": {},
   "outputs": [
    {
     "name": "stdout",
     "output_type": "stream",
     "text": [
      "Quack\n",
      "Moo!\n"
     ]
    }
   ],
   "source": [
    "trait Quackable:\n",
    "    fn quack(self):\n",
    "        ...\n",
    "\n",
    "@value\n",
    "struct Duck(Quackable):\n",
    "    fn quack(self):\n",
    "        print(\"Quack\")\n",
    "\n",
    "@value\n",
    "struct StealthCow(Quackable):\n",
    "    fn quack(self):\n",
    "        print(\"Moo!\")\n",
    "\n",
    "let a = Duck()\n",
    "let b = StealthCow()\n",
    "\n",
    "a.quack()\n",
    "b.quack()"
   ]
  },
  {
   "cell_type": "code",
   "execution_count": 4,
   "metadata": {},
   "outputs": [
    {
     "name": "stdout",
     "output_type": "stream",
     "text": [
      "Quack\n",
      "Moo!\n"
     ]
    }
   ],
   "source": [
    "fn make_it_quack[T: Quackable](maybe_a_duck:T):\n",
    "    maybe_a_duck.quack()\n",
    "\n",
    "make_it_quack(Duck())\n",
    "make_it_quack(StealthCow())"
   ]
  },
  {
   "cell_type": "markdown",
   "metadata": {},
   "source": [
    "### Traits Inheritance"
   ]
  },
  {
   "cell_type": "code",
   "execution_count": null,
   "metadata": {},
   "outputs": [],
   "source": [
    "trait Animal:\n",
    "    fn make_sound(self):\n",
    "        ...\n",
    "\n",
    "trait Bird(Animal):\n",
    "    fn fly(self):\n",
    "        ...\n",
    "\n",
    "trait Named:\n",
    "    fn get_name(self) -> String\n",
    "        ...\n",
    "\n",
    "trait Pet(Animal, Named):\n",
    "    pass"
   ]
  },
  {
   "cell_type": "markdown",
   "metadata": {},
   "source": [
    "### Traits and Lifecycle methods"
   ]
  },
  {
   "cell_type": "code",
   "execution_count": null,
   "metadata": {},
   "outputs": [],
   "source": [
    "trait DefaultConstructable:\n",
    "    fn __init__(inout self):\n",
    "        ...\n",
    "\n",
    "trait Movable:\n",
    "    fn __moveinit__(inout self, owned existing: Self):\n",
    "        ...\n",
    "\n",
    "trait MassProduceable(DefaultConstructable, Movable):\n",
    "    pass\n",
    "\n",
    "\n",
    "struct Thing(MassProduceable):\n",
    "    var id: Int\n",
    "\n",
    "    fn __init__(inout self):\n",
    "        self.id =0\n",
    "\n",
    "    fn __moveinit__(inout self, owned existing: Self):\n",
    "        self.id = existing.id\n",
    "\n",
    "fn factory[T: MassProduceable]() -> T:\n",
    "    return T()\n",
    "\n",
    "let thing = factory[Thing]"
   ]
  },
  {
   "cell_type": "markdown",
   "metadata": {},
   "source": [
    "### Built-in Traits"
   ]
  },
  {
   "cell_type": "markdown",
   "metadata": {},
   "source": [
    "1.Sized"
   ]
  },
  {
   "cell_type": "code",
   "execution_count": 6,
   "metadata": {},
   "outputs": [
    {
     "name": "stdout",
     "output_type": "stream",
     "text": [
      "0\n"
     ]
    }
   ],
   "source": [
    "struct MyVector(Sized):\n",
    "    var size: Int\n",
    "\n",
    "    fn __init__(inout self):\n",
    "        self.size = 0\n",
    "\n",
    "    fn __len__(self) -> Int:\n",
    "        return self.size\n",
    "\n",
    "print(len(MyVector()))"
   ]
  },
  {
   "cell_type": "markdown",
   "metadata": {},
   "source": [
    "2.Stringable"
   ]
  },
  {
   "cell_type": "code",
   "execution_count": 7,
   "metadata": {},
   "outputs": [
    {
     "name": "stdout",
     "output_type": "stream",
     "text": [
      "This is a dog named Spot\n"
     ]
    }
   ],
   "source": [
    "@value\n",
    "struct Pet1(Stringable):\n",
    "    var name: String\n",
    "    var type: String\n",
    "    \n",
    "    fn __str__(self) -> String:\n",
    "        return \"This is a \"+self.type+\" named \"+self.name\n",
    "\n",
    "    fn __moveinit__(inout self, owned existing:Self):\n",
    "        self.name = existing.name\n",
    "        self.type = existing.type\n",
    "\n",
    "let pet = Pet1(\"Spot\",\"dog\")\n",
    "print(pet)"
   ]
  },
  {
   "cell_type": "markdown",
   "metadata": {},
   "source": [
    "3.Intable"
   ]
  },
  {
   "cell_type": "code",
   "execution_count": 10,
   "metadata": {},
   "outputs": [
    {
     "name": "stdout",
     "output_type": "stream",
     "text": [
      "True\n"
     ]
    }
   ],
   "source": [
    "@value\n",
    "struct Foo(Intable):\n",
    "    var i:Int\n",
    "\n",
    "    fn __int__(self) -> Int:\n",
    "        return self.i\n",
    "\n",
    "    fn __moveinit__(inout self, owned existing:Self):\n",
    "        self.i = existing.i\n",
    "\n",
    "let foo = Foo(43)\n",
    "print(int(foo) == 43)\n",
    "    "
   ]
  },
  {
   "cell_type": "markdown",
   "metadata": {},
   "source": [
    "### Vectorize and Parallelize to calculate the mean"
   ]
  },
  {
   "cell_type": "code",
   "execution_count": 2,
   "metadata": {},
   "outputs": [
    {
     "name": "stdout",
     "output_type": "stream",
     "text": [
      "---------------------\n",
      "Benchmark Report (s)\n",
      "---------------------\n",
      "Mean: 3.1215295654427332e-06\n",
      "Total: 10.503765939000001\n",
      "Iters: 3364942\n",
      "Warmup Mean: 3.4999999999999999e-06\n",
      "Warmup Total: 6.9999999999999999e-06\n",
      "Warmup Iters: 2\n",
      "Fastest Mean: 2.9159799330507327e-06\n",
      "Slowest Mean: 3.3088677529254573e-06\n",
      "\n",
      "---------------------\n",
      "Benchmark Report (s)\n",
      "---------------------\n",
      "Mean: 1.0109051562751547e-05\n",
      "Total: 7.9119300780000001\n",
      "Iters: 782658\n",
      "Warmup Mean: 0.0001106\n",
      "Warmup Total: 0.00022120000000000001\n",
      "Warmup Iters: 2\n",
      "Fastest Mean: 9.9377685685263618e-06\n",
      "Slowest Mean: 1.0236512737364214e-05\n",
      "\n",
      "Speed up 0.30878560130650823\n"
     ]
    }
   ],
   "source": [
    "from random import rand\n",
    "\n",
    "from algorithm import vectorize, parallelize\n",
    "from sys.info import simdwidthof\n",
    "import benchmark\n",
    "\n",
    "alias dtype = DType.float32\n",
    "alias simd_width = simdwidthof[dtype]()\n",
    "\n",
    "fn row_mean_naive[dtype: DType](t:Tensor[dtype]) -> Tensor[dtype]:\n",
    "    var res = Tensor[dtype](t.dim(0),1)\n",
    "\n",
    "    for i in range(t.dim(0)):\n",
    "        for j in range(t.dim(1)):\n",
    "            res[i] += t[i,j]\n",
    "        res[i] /=t.dim(1)\n",
    "\n",
    "    return res\n",
    "\n",
    "fn row_mean_updated[dtype: DType](t:Tensor[dtype]) -> Tensor[dtype]:\n",
    "    var res = Tensor[dtype](t.dim(0),1)\n",
    "\n",
    "    @parameter\n",
    "    fn parallel_reduce_rows(idx1:Int) -> None:\n",
    "        @parameter\n",
    "        fn vectorize_reduce_row[simd_width:Int](idx2:Int) -> None:\n",
    "            res[idx1] += t.simd_load[simd_width](idx1*t.dim(0) +idx2).reduce_add()\n",
    "        vectorize[2*simd_width,vectorize_reduce_row](t.dim(1))\n",
    "        res[idx1] /= t.dim(1)\n",
    "    parallelize[parallel_reduce_rows](t.dim(0),t.dim(0))\n",
    "    return res\n",
    "fn main():\n",
    "    let t = rand[dtype](10,100)\n",
    "    var result = Tensor[dtype](t.dim(0),1)\n",
    "    @parameter\n",
    "    fn bech_mean():\n",
    "        _ = row_mean_naive(t)\n",
    "\n",
    "    @parameter \n",
    "    fn bech_mean_updated():\n",
    "        _ = row_mean_updated(t)\n",
    "\n",
    "    let report = benchmark.run[bech_mean]()\n",
    "    let report_updated = benchmark.run[bech_mean_updated]()\n",
    "    report.print()\n",
    "    report_updated.print()\n",
    "    print(\"Speed up\", report.mean()/report_updated.mean())\n",
    "\n",
    "main()"
   ]
  },
  {
   "cell_type": "markdown",
   "metadata": {},
   "source": [
    "### Efficient way to create, initialize, access and print Square Matrices"
   ]
  },
  {
   "cell_type": "code",
   "execution_count": 7,
   "metadata": {},
   "outputs": [
    {
     "name": "stdout",
     "output_type": "stream",
     "text": [
      "Tensor([[6.0, 6.0, 6.0],\n",
      "[6.0, 6.0, 6.0],\n",
      "[6.0, 6.0, 6.0]], dtype=float32, shape=3x3)\n",
      "Tensor([[7.0, 7.0, 7.0],\n",
      "[7.0, 7.0, 7.0],\n",
      "[7.0, 7.0, 7.0]], dtype=float32, shape=3x3)\n",
      "Tensor([[9.0, 9.0, 9.0],\n",
      "[9.0, 9.0, 9.0],\n",
      "[9.0, 9.0, 9.0]], dtype=float64, shape=3x3)\n",
      "Tensor([[9.0, 9.0, 9.0, 9.0, 9.0],\n",
      "[9.0, 9.0, 9.0, 9.0, 9.0],\n",
      "[9.0, 9.0, 9.0, 9.0, 9.0],\n",
      "[9.0, 9.0, 9.0, 9.0, 9.0],\n",
      "[9.0, 9.0, 9.0, 9.0, 9.0]], dtype=float64, shape=5x5)\n"
     ]
    }
   ],
   "source": [
    "\n",
    "from algorithm import vectorize\n",
    "struct SquateMatrix[dtype: DType = DType.float32, dim: Int = 3]():\n",
    "    var mat: Tensor[dtype]\n",
    "\n",
    "    fn __init__(inout self, value: SIMD[dtype, 1]= 6):\n",
    "        self.mat = Tensor[dtype](self.dim, self.dim)\n",
    "\n",
    "        @parameter\n",
    "        fn fill_value[simd_width:Int](idx:Int) -> None:\n",
    "            self.mat.simd_store(idx, self.mat.simd_load[simd_width](idx).splat(value))\n",
    "\n",
    "        vectorize[simd_width,fill_value](self.mat.num_elements())\n",
    "\n",
    "    fn __getitem__(self, x:Int,y:Int) -> SIMD[dtype,1]:\n",
    "        return self.mat[x,y]\n",
    "\n",
    "    fn print(self):\n",
    "        print(self.mat)\n",
    "\n",
    "\n",
    "SquateMatrix().print()\n",
    "SquateMatrix(value=7).print()\n",
    "SquateMatrix[DType.float64](value=9).print()\n",
    "SquateMatrix[DType.float64,dim=5](value=9).print()"
   ]
  },
  {
   "cell_type": "markdown",
   "metadata": {},
   "source": [
    "### Mutliply the square matrics with a scalar value"
   ]
  },
  {
   "cell_type": "code",
   "execution_count": 9,
   "metadata": {},
   "outputs": [
    {
     "name": "stdout",
     "output_type": "stream",
     "text": [
      "Tensor([[6.0, 6.0, 6.0],\n",
      "[6.0, 6.0, 6.0],\n",
      "[6.0, 6.0, 6.0]], dtype=float32, shape=3x3)\n",
      "Tensor([[600.0, 600.0, 600.0],\n",
      "[600.0, 600.0, 600.0],\n",
      "[600.0, 600.0, 600.0]], dtype=float32, shape=3x3)\n"
     ]
    }
   ],
   "source": [
    "from sys.info import simdwidthof\n",
    "from math import mul\n",
    "fn multipy(sm: SquateMatrix, val: SIMD[sm.dtype, 1]) -> Tensor[sm.dtype]:\n",
    "    alias simd_width: Int = simdwidthof[sm.dtype]()\n",
    "    let result_tensor = Tensor[sm.dtype](sm.mat.shape())\n",
    "\n",
    "    @parameter\n",
    "    fn vectorize_multipy[simd_width:Int](idx: Int) -> None:\n",
    "        result_tensor.simd_store[simd_width](idx, mul[sm.dtype, simd_width](sm.mat.simd_load[simd_width](idx),val))\n",
    "\n",
    "    vectorize[simd_width, vectorize_multipy](sm.mat.num_elements())\n",
    "    return result_tensor\n",
    "\n",
    "let sm = SquateMatrix(6)\n",
    "sm.print()\n",
    "let res = multipy(sm,100.0)\n",
    "print(res)"
   ]
  },
  {
   "cell_type": "markdown",
   "metadata": {},
   "source": [
    "### Mandelbrot Impl in mojo using python PIL Library"
   ]
  }
 ],
 "metadata": {
  "kernelspec": {
   "display_name": "Mojo",
   "language": "mojo",
   "name": "mojo-jupyter-kernel"
  },
  "language_info": {
   "codemirror_mode": {
    "name": "mojo"
   },
   "file_extension": ".mojo",
   "mimetype": "text/x-mojo",
   "name": "mojo"
  }
 },
 "nbformat": 4,
 "nbformat_minor": 2
}
